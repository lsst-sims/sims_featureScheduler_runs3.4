{
 "cells": [
  {
   "cell_type": "code",
   "execution_count": 1,
   "id": "37f7950a-c197-45c1-b4cc-c263b3630c0f",
   "metadata": {},
   "outputs": [],
   "source": [
    "import numpy as np\n",
    "import pandas as pd\n",
    "import sqlite3"
   ]
  },
  {
   "cell_type": "code",
   "execution_count": 6,
   "id": "4bce2c8a-a0de-4f63-97a9-c3b1ac7a5787",
   "metadata": {},
   "outputs": [],
   "source": [
    "qu = 'select fieldRA, fieldDec,night from observations;'\n",
    "con = sqlite3.connect('roll_uniform_4_mjdp0_v3.4_10yrs.db')\n",
    "df_4 = pd.read_sql(qu, con)\n",
    "con.close()\n",
    "\n",
    "con = sqlite3.connect('roll_uniform_early_half_mjdp0_v3.4_10yrs.db')\n",
    "df_3 = pd.read_sql(qu, con)\n",
    "con.close()\n"
   ]
  },
  {
   "cell_type": "code",
   "execution_count": 7,
   "id": "2a6c8a38-3259-47ca-8b33-46e2786eec70",
   "metadata": {},
   "outputs": [
    {
     "data": {
      "text/html": [
       "<div>\n",
       "<style scoped>\n",
       "    .dataframe tbody tr th:only-of-type {\n",
       "        vertical-align: middle;\n",
       "    }\n",
       "\n",
       "    .dataframe tbody tr th {\n",
       "        vertical-align: top;\n",
       "    }\n",
       "\n",
       "    .dataframe thead th {\n",
       "        text-align: right;\n",
       "    }\n",
       "</style>\n",
       "<table border=\"1\" class=\"dataframe\">\n",
       "  <thead>\n",
       "    <tr style=\"text-align: right;\">\n",
       "      <th></th>\n",
       "      <th>fieldRA</th>\n",
       "      <th>fieldDec</th>\n",
       "      <th>night</th>\n",
       "    </tr>\n",
       "  </thead>\n",
       "  <tbody>\n",
       "    <tr>\n",
       "      <th>0</th>\n",
       "      <td>200.782211</td>\n",
       "      <td>-50.116498</td>\n",
       "      <td>0</td>\n",
       "    </tr>\n",
       "    <tr>\n",
       "      <th>1</th>\n",
       "      <td>205.280457</td>\n",
       "      <td>-48.985871</td>\n",
       "      <td>0</td>\n",
       "    </tr>\n",
       "    <tr>\n",
       "      <th>2</th>\n",
       "      <td>208.768832</td>\n",
       "      <td>-50.721324</td>\n",
       "      <td>0</td>\n",
       "    </tr>\n",
       "    <tr>\n",
       "      <th>3</th>\n",
       "      <td>212.491654</td>\n",
       "      <td>-52.367602</td>\n",
       "      <td>0</td>\n",
       "    </tr>\n",
       "    <tr>\n",
       "      <th>4</th>\n",
       "      <td>209.531249</td>\n",
       "      <td>-47.656241</td>\n",
       "      <td>0</td>\n",
       "    </tr>\n",
       "    <tr>\n",
       "      <th>...</th>\n",
       "      <td>...</td>\n",
       "      <td>...</td>\n",
       "      <td>...</td>\n",
       "    </tr>\n",
       "    <tr>\n",
       "      <th>2146247</th>\n",
       "      <td>6.454043</td>\n",
       "      <td>-25.618802</td>\n",
       "      <td>3652</td>\n",
       "    </tr>\n",
       "    <tr>\n",
       "      <th>2146248</th>\n",
       "      <td>358.689779</td>\n",
       "      <td>-33.279564</td>\n",
       "      <td>3652</td>\n",
       "    </tr>\n",
       "    <tr>\n",
       "      <th>2146249</th>\n",
       "      <td>2.797825</td>\n",
       "      <td>-41.132379</td>\n",
       "      <td>3652</td>\n",
       "    </tr>\n",
       "    <tr>\n",
       "      <th>2146250</th>\n",
       "      <td>7.481395</td>\n",
       "      <td>-52.234287</td>\n",
       "      <td>3652</td>\n",
       "    </tr>\n",
       "    <tr>\n",
       "      <th>2146251</th>\n",
       "      <td>11.643270</td>\n",
       "      <td>-53.637536</td>\n",
       "      <td>3652</td>\n",
       "    </tr>\n",
       "  </tbody>\n",
       "</table>\n",
       "<p>2146252 rows × 3 columns</p>\n",
       "</div>"
      ],
      "text/plain": [
       "            fieldRA   fieldDec  night\n",
       "0        200.782211 -50.116498      0\n",
       "1        205.280457 -48.985871      0\n",
       "2        208.768832 -50.721324      0\n",
       "3        212.491654 -52.367602      0\n",
       "4        209.531249 -47.656241      0\n",
       "...             ...        ...    ...\n",
       "2146247    6.454043 -25.618802   3652\n",
       "2146248  358.689779 -33.279564   3652\n",
       "2146249    2.797825 -41.132379   3652\n",
       "2146250    7.481395 -52.234287   3652\n",
       "2146251   11.643270 -53.637536   3652\n",
       "\n",
       "[2146252 rows x 3 columns]"
      ]
     },
     "execution_count": 7,
     "metadata": {},
     "output_type": "execute_result"
    }
   ],
   "source": [
    "df_4"
   ]
  },
  {
   "cell_type": "code",
   "execution_count": 10,
   "id": "f595c2d1-444e-4603-b612-d35dcd6c2a05",
   "metadata": {},
   "outputs": [],
   "source": [
    "ack = (df_4['fieldRA'] - df_3['fieldRA']).values"
   ]
  },
  {
   "cell_type": "code",
   "execution_count": 16,
   "id": "613e9053-89bc-4d7b-8e08-13b8deefc3c7",
   "metadata": {},
   "outputs": [
    {
     "data": {
      "text/plain": [
       "array([1100, 1100, 1100, ..., 3652, 3652, 3652])"
      ]
     },
     "execution_count": 16,
     "metadata": {},
     "output_type": "execute_result"
    }
   ],
   "source": [
    "df_4['night'].values[np.where(np.abs(ack) > 1e-12)[0]]"
   ]
  },
  {
   "cell_type": "code",
   "execution_count": 17,
   "id": "67ba5eb3-6cbb-4967-97f5-0ee0348c20e2",
   "metadata": {},
   "outputs": [
    {
     "data": {
      "text/plain": [
       "3.0116358658453115"
      ]
     },
     "execution_count": 17,
     "metadata": {},
     "output_type": "execute_result"
    }
   ],
   "source": [
    "1100/365.25\n"
   ]
  },
  {
   "cell_type": "code",
   "execution_count": null,
   "id": "1b2fc812-cc4a-412b-9d03-8944e8596add",
   "metadata": {},
   "outputs": [],
   "source": []
  }
 ],
 "metadata": {
  "kernelspec": {
   "display_name": "Python 3 (ipykernel)",
   "language": "python",
   "name": "python3"
  },
  "language_info": {
   "codemirror_mode": {
    "name": "ipython",
    "version": 3
   },
   "file_extension": ".py",
   "mimetype": "text/x-python",
   "name": "python",
   "nbconvert_exporter": "python",
   "pygments_lexer": "ipython3",
   "version": "3.11.8"
  }
 },
 "nbformat": 4,
 "nbformat_minor": 5
}
